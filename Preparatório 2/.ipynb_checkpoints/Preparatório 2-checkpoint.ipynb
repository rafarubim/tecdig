{
 "cells": [
  {
   "cell_type": "markdown",
   "metadata": {},
   "source": [
    "# Lab de Técnicas Digitais - Preparatório 2 - PUC-Rio\n",
    "## Rafael Rubim Cabral - 1511068\n",
    "## André Guimarães de Mello Alves - 1511032"
   ]
  },
  {
   "cell_type": "markdown",
   "metadata": {},
   "source": [
    "### 1)\n",
    "&emsp;Adotando S3 S2 S1 S0 como os bits de saída e A B C D os bits de entrada temos o seguinte mapa de karnaugh (X = don't care, vazio = 0):"
   ]
  },
  {
   "cell_type": "markdown",
   "metadata": {},
   "source": [
    "<img src=\"MapaKarnaugh1.png\" width=\"900px\">"
   ]
  },
  {
   "cell_type": "markdown",
   "metadata": {},
   "source": [
    "&emsp;Com isso, temos as seguintes funções (para cada bit de saída):\n",
    "\n",
    "$S3(A,B,C,D) = AC + A\\overline{B}D$\n",
    "\n",
    "$S2(A,B,C,D) = \\overline{A}B + A\\overline{C}\\overline{D}$\n",
    "\n",
    "$S1(A,B,C,D) = \\overline{A}\\overline{B}D + \\overline{A}C + A\\overline{C}\\overline{D}$\n",
    "\n",
    "$S0(A,B,C,D) = \\overline{A}BD + \\overline{B}\\overline{D}$\n",
    "\n",
    "&emsp;Com isso já possuímos os gates para o circuito mínimo em forma de soma de produtos."
   ]
  },
  {
   "cell_type": "markdown",
   "metadata": {},
   "source": [
    "### 3)\n",
    "&emsp;Precisamos ter 2 subsistemas: um para somar e um para comparar. Os bits de entrada podem entrar nos dois subsistemas simultaneamente, mas a saída deve ser igual à saída de um único subsistema. Para isso, utilizamos um multiplexador. O circuito foi implementado diretamente no CircuitMaker."
   ]
  }
 ],
 "metadata": {
  "kernelspec": {
   "display_name": "Python 2",
   "language": "python",
   "name": "python2"
  },
  "language_info": {
   "codemirror_mode": {
    "name": "ipython",
    "version": 2
   },
   "file_extension": ".py",
   "mimetype": "text/x-python",
   "name": "python",
   "nbconvert_exporter": "python",
   "pygments_lexer": "ipython2",
   "version": "2.7.13"
  }
 },
 "nbformat": 4,
 "nbformat_minor": 2
}
