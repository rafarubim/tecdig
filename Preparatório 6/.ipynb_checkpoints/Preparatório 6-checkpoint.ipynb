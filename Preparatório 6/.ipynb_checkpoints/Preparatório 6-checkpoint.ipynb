{
 "cells": [
  {
   "cell_type": "markdown",
   "metadata": {},
   "source": [
    "# Lab de Técnicas Digitais - Preparatório 3 - PUC-Rio\n",
    "## Rafael Rubim Cabral - 1511068\n",
    "## André Guimarães de Mello Alves - 1511032"
   ]
  },
  {
   "cell_type": "markdown",
   "metadata": {},
   "source": [
    "### Diagrama de Estados\n",
    "\n",
    "&emsp;Escolhemos a senha 12. Segue o diagrama de estados no modelo Mealy:"
   ]
  },
  {
   "cell_type": "markdown",
   "metadata": {},
   "source": [
    "<img src=\"diagramaEstados.jpg\" width=\"800px\"/>"
   ]
  },
  {
   "cell_type": "markdown",
   "metadata": {},
   "source": [
    "&emsp;Após isso, fizemos a máquina no modelo Moore:"
   ]
  },
  {
   "cell_type": "markdown",
   "metadata": {},
   "source": [
    "<img src=\"diagramaEstados2.jpg\" width=\"800p\"/>"
   ]
  },
  {
   "cell_type": "markdown",
   "metadata": {},
   "source": [
    "### Tabela de transições de estados\n",
    "\n",
    "| $q$   | $z$ | $0$   | $1$   | $2$   | $3$   |\n",
    "|-------|-----|-------|-------|-------|-------|\n",
    "| $q_0$ | $0$ | $q_2$ | $q_1$ | $q_2$ | $q_2$ |\n",
    "| $q_1$ | $0$ | $q_3$ | $q_3$ | $q_7$ | $q_3$ |\n",
    "| $q_2$ | $0$ | $q_3$ | $q_3$ | $q_3$ | $q_3$ |\n",
    "| $q_3$ | $0$ | $q_5$ | $q_4$ | $q_5$ | $q_5$ |\n",
    "| $q_4$ | $0$ | $q_6$ | $q_6$ | $q_7$ | $q_6$ |\n",
    "| $q_5$ | $0$ | $q_6$ | $q_6$ | $q_6$ | $q_6$ |\n",
    "| $q_6$ | $0$ | $q_6$ | $q_6$ | $q_6$ | $q_6$ |\n",
    "| $q_7$ | $1$ | $q_2$ | $q_1$ | $q_2$ | $q_2$ |"
   ]
  },
  {
   "cell_type": "markdown",
   "metadata": {},
   "source": [
    "Podemos simplificar a tabela pelas equivalências:\n",
    "\n",
    "&emsp;$q_5 = q_6$\n",
    "\n",
    "| $q$   | $z$ | $0$   | $1$   | $2$   | $3$   |\n",
    "|-------|-----|-------|-------|-------|-------|\n",
    "| $q_0$ | $0$ | $q_2$ | $q_1$ | $q_2$ | $q_2$ |\n",
    "| $q_1$ | $0$ | $q_3$ | $q_3$ | $q_7$ | $q_3$ |\n",
    "| $q_2$ | $0$ | $q_3$ | $q_3$ | $q_3$ | $q_3$ |\n",
    "| $q_3$ | $0$ | $q_5$ | $q_4$ | $q_5$ | $q_5$ |\n",
    "| $q_4$ | $0$ | $q_5$ | $q_5$ | $q_7$ | $q_5$ |\n",
    "| $q_5$ | $0$ | $q_5$ | $q_5$ | $q_5$ | $q_5$ |\n",
    "| $q_7$ | $1$ | $q_2$ | $q_1$ | $q_2$ | $q_2$ |"
   ]
  },
  {
   "cell_type": "markdown",
   "metadata": {},
   "source": [
    "### Tabela de implicação\n",
    "\n",
    "&emsp;Para checar ainda mais possibilidades de simplificação, vamos ao próximo passo:"
   ]
  },
  {
   "cell_type": "markdown",
   "metadata": {},
   "source": [
    "<style type=\"text/css\">\n",
    ".tg  {border-collapse:collapse;border-spacing:0;}\n",
    ".tg td{font-family:Arial, sans-serif;font-size:14px;padding:10px 5px;border-style:solid;border-width:1px;overflow:hidden;word-break:normal;border-color:black;}\n",
    ".tg th{font-family:Arial, sans-serif;font-size:14px;font-weight:normal;padding:10px 5px;border-style:solid;border-width:1px;overflow:hidden;word-break:normal;border-color:black;}\n",
    ".tg .tg-l711{border-color:inherit}\n",
    ".tg .tg-us36{border-color:inherit;vertical-align:top}\n",
    "</style>\n",
    "<table class=\"tg\">\n",
    "  <tr>\n",
    "    <th class=\"tg-l711\">$0$</th>\n",
    "  </tr>\n",
    "  <tr>\n",
    "    <td class=\"tg-l711\">2-3<br>1-3<br>2-7<br></td>\n",
    "    <td class=\"tg-l711\">$1$</td>\n",
    "  </tr>\n",
    "  <tr>\n",
    "    <td class=\"tg-l711\">2-3<br>1-3<br></td>\n",
    "    <td class=\"tg-l711\">3-7<br></td>\n",
    "    <td class=\"tg-l711\">$2$</td>\n",
    "  </tr>\n",
    "  <tr>\n",
    "    <td class=\"tg-l711\">2-5<br>1-4<br></td>\n",
    "    <td class=\"tg-l711\">3-5<br>3-4<br>7-5<br></td>\n",
    "    <td class=\"tg-l711\">3-5<br>3-4<br></td>\n",
    "    <td class=\"tg-l711\">$3$</td>\n",
    "  </tr>\n",
    "  <tr>\n",
    "    <td class=\"tg-l711\">2-5<br>1-5<br>2-7<br></td>\n",
    "    <td class=\"tg-l711\">3-5<br></td>\n",
    "    <td class=\"tg-l711\">3-5<br>3-7<br></td>\n",
    "    <td class=\"tg-l711\">4-5<br>5-7<br></td>\n",
    "    <td class=\"tg-l711\">$4$</td>\n",
    "  </tr>\n",
    "  <tr>\n",
    "    <td class=\"tg-l711\">2-5<br>1-5<br></td>\n",
    "    <td class=\"tg-l711\">3-5<br>5-7</td>\n",
    "    <td class=\"tg-l711\">3-5<br></td>\n",
    "    <td class=\"tg-l711\">4-5<br></td>\n",
    "    <td class=\"tg-l711\">5-7</td>\n",
    "    <td class=\"tg-l711\">$5$</td>\n",
    "  </tr>\n",
    "  <tr>\n",
    "    <td class=\"tg-l711\">X</td>\n",
    "    <td class=\"tg-l711\">X</td>\n",
    "    <td class=\"tg-l711\">X</td>\n",
    "    <td class=\"tg-l711\">X</td>\n",
    "    <td class=\"tg-l711\">X</td>\n",
    "    <td class=\"tg-l711\">X</td>\n",
    "    <td class=\"tg-us36\">$7$</td>\n",
    "  </tr>\n",
    "</table>"
   ]
  },
  {
   "cell_type": "markdown",
   "metadata": {},
   "source": [
    "&emsp;Em primeiro lugar nenhum estado é equivalente ao 7:"
   ]
  },
  {
   "cell_type": "markdown",
   "metadata": {},
   "source": [
    "<style type=\"text/css\">\n",
    ".tg  {border-collapse:collapse;border-spacing:0;}\n",
    ".tg td{font-family:Arial, sans-serif;font-size:14px;padding:10px 5px;border-style:solid;border-width:1px;overflow:hidden;word-break:normal;border-color:black;}\n",
    ".tg th{font-family:Arial, sans-serif;font-size:14px;font-weight:normal;padding:10px 5px;border-style:solid;border-width:1px;overflow:hidden;word-break:normal;border-color:black;}\n",
    ".tg .tg-l711{border-color:inherit}\n",
    ".tg .tg-us36{border-color:inherit;vertical-align:top}\n",
    "</style>\n",
    "<table class=\"tg\">\n",
    "  <tr>\n",
    "    <th class=\"tg-l711\">$0$</th>\n",
    "  </tr>\n",
    "  <tr>\n",
    "    <td class=\"tg-l711\">X<br></td>\n",
    "    <td class=\"tg-l711\">$1$</td>\n",
    "  </tr>\n",
    "  <tr>\n",
    "    <td class=\"tg-l711\">2-3<br>1-3<br></td>\n",
    "    <td class=\"tg-l711\">X<br></td>\n",
    "    <td class=\"tg-l711\">$2$</td>\n",
    "  </tr>\n",
    "  <tr>\n",
    "    <td class=\"tg-l711\">2-5<br>1-4<br></td>\n",
    "    <td class=\"tg-l711\">X<br></td>\n",
    "    <td class=\"tg-l711\">3-5<br>3-4<br></td>\n",
    "    <td class=\"tg-l711\">$3$</td>\n",
    "  </tr>\n",
    "  <tr>\n",
    "    <td class=\"tg-l711\">X<br></td>\n",
    "    <td class=\"tg-l711\">3-5<br></td>\n",
    "    <td class=\"tg-l711\">X<br></td>\n",
    "    <td class=\"tg-l711\">X<br></td>\n",
    "    <td class=\"tg-l711\">$4$</td>\n",
    "  </tr>\n",
    "  <tr>\n",
    "    <td class=\"tg-l711\">2-5<br>1-5<br></td>\n",
    "    <td class=\"tg-l711\">X</td>\n",
    "    <td class=\"tg-l711\">3-5<br></td>\n",
    "    <td class=\"tg-l711\">4-5<br></td>\n",
    "    <td class=\"tg-l711\">X</td>\n",
    "    <td class=\"tg-l711\">$5$</td>\n",
    "  </tr>\n",
    "  <tr>\n",
    "    <td class=\"tg-l711\">X</td>\n",
    "    <td class=\"tg-l711\">X</td>\n",
    "    <td class=\"tg-l711\">X</td>\n",
    "    <td class=\"tg-l711\">X</td>\n",
    "    <td class=\"tg-l711\">X</td>\n",
    "    <td class=\"tg-l711\">X</td>\n",
    "    <td class=\"tg-us36\">$7$</td>\n",
    "  </tr>\n",
    "</table>"
   ]
  },
  {
   "cell_type": "markdown",
   "metadata": {},
   "source": [
    "&emsp;Depois podemos fazer sucessivas passadas para testar as condições de equivalência restantes:"
   ]
  },
  {
   "cell_type": "markdown",
   "metadata": {},
   "source": [
    "<style type=\"text/css\">\n",
    ".tg  {border-collapse:collapse;border-spacing:0;}\n",
    ".tg td{font-family:Arial, sans-serif;font-size:14px;padding:10px 5px;border-style:solid;border-width:1px;overflow:hidden;word-break:normal;border-color:black;}\n",
    ".tg th{font-family:Arial, sans-serif;font-size:14px;font-weight:normal;padding:10px 5px;border-style:solid;border-width:1px;overflow:hidden;word-break:normal;border-color:black;}\n",
    ".tg .tg-l711{border-color:inherit}\n",
    ".tg .tg-us36{border-color:inherit;vertical-align:top}\n",
    "</style>\n",
    "<table class=\"tg\">\n",
    "  <tr>\n",
    "    <th class=\"tg-l711\">$0$</th>\n",
    "  </tr>\n",
    "  <tr>\n",
    "    <td class=\"tg-l711\">X<br></td>\n",
    "    <td class=\"tg-l711\">$1$</td>\n",
    "  </tr>\n",
    "  <tr>\n",
    "    <td class=\"tg-l711\">X<br></td>\n",
    "    <td class=\"tg-l711\">X<br></td>\n",
    "    <td class=\"tg-l711\">$2$</td>\n",
    "  </tr>\n",
    "  <tr>\n",
    "    <td class=\"tg-l711\">2-5<br>1-4<br></td>\n",
    "    <td class=\"tg-l711\">X<br></td>\n",
    "    <td class=\"tg-l711\">X<br></td>\n",
    "    <td class=\"tg-l711\">$3$</td>\n",
    "  </tr>\n",
    "  <tr>\n",
    "    <td class=\"tg-l711\">X<br></td>\n",
    "    <td class=\"tg-l711\">3-5<br></td>\n",
    "    <td class=\"tg-l711\">X<br></td>\n",
    "    <td class=\"tg-l711\">X<br></td>\n",
    "    <td class=\"tg-l711\">$4$</td>\n",
    "  </tr>\n",
    "  <tr>\n",
    "    <td class=\"tg-l711\">X<br></td>\n",
    "    <td class=\"tg-l711\">X</td>\n",
    "    <td class=\"tg-l711\">3-5<br></td>\n",
    "    <td class=\"tg-l711\">X<br></td>\n",
    "    <td class=\"tg-l711\">X</td>\n",
    "    <td class=\"tg-l711\">$5$</td>\n",
    "  </tr>\n",
    "  <tr>\n",
    "    <td class=\"tg-l711\">X</td>\n",
    "    <td class=\"tg-l711\">X</td>\n",
    "    <td class=\"tg-l711\">X</td>\n",
    "    <td class=\"tg-l711\">X</td>\n",
    "    <td class=\"tg-l711\">X</td>\n",
    "    <td class=\"tg-l711\">X</td>\n",
    "    <td class=\"tg-us36\">$7$</td>\n",
    "  </tr>\n",
    "</table>"
   ]
  },
  {
   "cell_type": "markdown",
   "metadata": {},
   "source": [
    "<style type=\"text/css\">\n",
    ".tg  {border-collapse:collapse;border-spacing:0;}\n",
    ".tg td{font-family:Arial, sans-serif;font-size:14px;padding:10px 5px;border-style:solid;border-width:1px;overflow:hidden;word-break:normal;border-color:black;}\n",
    ".tg th{font-family:Arial, sans-serif;font-size:14px;font-weight:normal;padding:10px 5px;border-style:solid;border-width:1px;overflow:hidden;word-break:normal;border-color:black;}\n",
    ".tg .tg-l711{border-color:inherit}\n",
    ".tg .tg-us36{border-color:inherit;vertical-align:top}\n",
    "</style>\n",
    "<table class=\"tg\">\n",
    "  <tr>\n",
    "    <th class=\"tg-l711\">$0$</th>\n",
    "  </tr>\n",
    "  <tr>\n",
    "    <td class=\"tg-l711\">X<br></td>\n",
    "    <td class=\"tg-l711\">$1$</td>\n",
    "  </tr>\n",
    "  <tr>\n",
    "    <td class=\"tg-l711\">X<br></td>\n",
    "    <td class=\"tg-l711\">X<br></td>\n",
    "    <td class=\"tg-l711\">$2$</td>\n",
    "  </tr>\n",
    "  <tr>\n",
    "    <td class=\"tg-l711\">2-5<br>1-4<br></td>\n",
    "    <td class=\"tg-l711\">X<br></td>\n",
    "    <td class=\"tg-l711\">X<br></td>\n",
    "    <td class=\"tg-l711\">$3$</td>\n",
    "  </tr>\n",
    "  <tr>\n",
    "    <td class=\"tg-l711\">X<br></td>\n",
    "    <td class=\"tg-l711\">X<br></td>\n",
    "    <td class=\"tg-l711\">X<br></td>\n",
    "    <td class=\"tg-l711\">X<br></td>\n",
    "    <td class=\"tg-l711\">$4$</td>\n",
    "  </tr>\n",
    "  <tr>\n",
    "    <td class=\"tg-l711\">X<br></td>\n",
    "    <td class=\"tg-l711\">X</td>\n",
    "    <td class=\"tg-l711\">X<br></td>\n",
    "    <td class=\"tg-l711\">X<br></td>\n",
    "    <td class=\"tg-l711\">X</td>\n",
    "    <td class=\"tg-l711\">$5$</td>\n",
    "  </tr>\n",
    "  <tr>\n",
    "    <td class=\"tg-l711\">X</td>\n",
    "    <td class=\"tg-l711\">X</td>\n",
    "    <td class=\"tg-l711\">X</td>\n",
    "    <td class=\"tg-l711\">X</td>\n",
    "    <td class=\"tg-l711\">X</td>\n",
    "    <td class=\"tg-l711\">X</td>\n",
    "    <td class=\"tg-us36\">$7$</td>\n",
    "  </tr>\n",
    "</table>"
   ]
  },
  {
   "cell_type": "markdown",
   "metadata": {},
   "source": [
    "<style type=\"text/css\">\n",
    ".tg  {border-collapse:collapse;border-spacing:0;}\n",
    ".tg td{font-family:Arial, sans-serif;font-size:14px;padding:10px 5px;border-style:solid;border-width:1px;overflow:hidden;word-break:normal;border-color:black;}\n",
    ".tg th{font-family:Arial, sans-serif;font-size:14px;font-weight:normal;padding:10px 5px;border-style:solid;border-width:1px;overflow:hidden;word-break:normal;border-color:black;}\n",
    ".tg .tg-l711{border-color:inherit}\n",
    ".tg .tg-us36{border-color:inherit;vertical-align:top}\n",
    "</style>\n",
    "<table class=\"tg\">\n",
    "  <tr>\n",
    "    <th class=\"tg-l711\">$0$</th>\n",
    "  </tr>\n",
    "  <tr>\n",
    "    <td class=\"tg-l711\">X<br></td>\n",
    "    <td class=\"tg-l711\">$1$</td>\n",
    "  </tr>\n",
    "  <tr>\n",
    "    <td class=\"tg-l711\">X<br></td>\n",
    "    <td class=\"tg-l711\">X<br></td>\n",
    "    <td class=\"tg-l711\">$2$</td>\n",
    "  </tr>\n",
    "  <tr>\n",
    "    <td class=\"tg-l711\">X<br></td>\n",
    "    <td class=\"tg-l711\">X<br></td>\n",
    "    <td class=\"tg-l711\">X<br></td>\n",
    "    <td class=\"tg-l711\">$3$</td>\n",
    "  </tr>\n",
    "  <tr>\n",
    "    <td class=\"tg-l711\">X<br></td>\n",
    "    <td class=\"tg-l711\">X<br></td>\n",
    "    <td class=\"tg-l711\">X<br></td>\n",
    "    <td class=\"tg-l711\">X<br></td>\n",
    "    <td class=\"tg-l711\">$4$</td>\n",
    "  </tr>\n",
    "  <tr>\n",
    "    <td class=\"tg-l711\">X<br></td>\n",
    "    <td class=\"tg-l711\">X</td>\n",
    "    <td class=\"tg-l711\">X<br></td>\n",
    "    <td class=\"tg-l711\">X<br></td>\n",
    "    <td class=\"tg-l711\">X</td>\n",
    "    <td class=\"tg-l711\">$5$</td>\n",
    "  </tr>\n",
    "  <tr>\n",
    "    <td class=\"tg-l711\">X</td>\n",
    "    <td class=\"tg-l711\">X</td>\n",
    "    <td class=\"tg-l711\">X</td>\n",
    "    <td class=\"tg-l711\">X</td>\n",
    "    <td class=\"tg-l711\">X</td>\n",
    "    <td class=\"tg-l711\">X</td>\n",
    "    <td class=\"tg-us36\">$7$</td>\n",
    "  </tr>\n",
    "</table>"
   ]
  },
  {
   "cell_type": "markdown",
   "metadata": {},
   "source": [
    "&emsp;A conclusão é que não há mais simplificações possíveis."
   ]
  },
  {
   "cell_type": "markdown",
   "metadata": {},
   "source": [
    "### Tabela de transições simplificada\n",
    "\n",
    "&emsp;Renomeando o estado 7 para 6, temos nossa tabela simplificada final:\n",
    "\n",
    "| $q$   | $z$ | $0$   | $1$   | $2$   | $3$   |\n",
    "|-------|-----|-------|-------|-------|-------|\n",
    "| $q_0$ | $0$ | $q_2$ | $q_1$ | $q_2$ | $q_2$ |\n",
    "| $q_1$ | $0$ | $q_3$ | $q_3$ | $q_6$ | $q_3$ |\n",
    "| $q_2$ | $0$ | $q_3$ | $q_3$ | $q_3$ | $q_3$ |\n",
    "| $q_3$ | $0$ | $q_5$ | $q_4$ | $q_5$ | $q_5$ |\n",
    "| $q_4$ | $0$ | $q_5$ | $q_5$ | $q_6$ | $q_5$ |\n",
    "| $q_5$ | $0$ | $q_5$ | $q_5$ | $q_5$ | $q_5$ |\n",
    "| $q_6$ | $1$ | $q_2$ | $q_1$ | $q_2$ | $q_2$ |"
   ]
  },
  {
   "cell_type": "markdown",
   "metadata": {},
   "source": [
    "### Tabelas do flip-flop e de transição de estado binário:\n",
    "\n",
    "&emsp;Como pedido no enunciado, para implementar o circuito sequencial utilizaremos flip-flops do tipo JK. Para fazer a transição de estados, as entradas necessárias no flip-flop é:\n",
    "\n",
    "| Transição       \t| J \t| K \t|\n",
    "|-----------------\t|---\t|---\t|\n",
    "| 0$\\rightarrow$0 \t| 0 \t| X \t|\n",
    "| 0$\\rightarrow$1 \t| 1 \t| X \t|\n",
    "| 1$\\rightarrow$0 \t| X \t| 1 \t|\n",
    "| 1$\\rightarrow$1 \t| X \t| 0 \t|"
   ]
  },
  {
   "cell_type": "markdown",
   "metadata": {},
   "source": [
    "&emsp;Temos 7 estados diferentes na máquina. Portanto cada um será representado por 3 bits ($q = y_2y_1y_0$). As entradas variam de 0 a 3, portanto podem ser representadas por 2 bits. A tabela de transições em binários será:\n",
    "\n",
    "|$y_2y_1y_0$| $z$ | $00$  | $01$  | $10$  | $11$  |\n",
    "|-------|-----|-------|-------|-------|-------|\n",
    "| $000$ | $0$ | $010$ | $001$ | $010$ | $010$ |\n",
    "| $001$ | $0$ | $011$ | $011$ | $110$ | $011$ |\n",
    "| $010$ | $0$ | $011$ | $011$ | $011$ | $011$ |\n",
    "| $011$ | $0$ | $101$ | $100$ | $101$ | $101$ |\n",
    "| $100$ | $0$ | $101$ | $101$ | $110$ | $101$ |\n",
    "| $101$ | $0$ | $101$ | $101$ | $101$ | $101$ |\n",
    "| $110$ | $1$ | $010$ | $001$ | $010$ | $010$ |"
   ]
  },
  {
   "cell_type": "markdown",
   "metadata": {
    "collapsed": true
   },
   "source": [
    "### Circuitos de entrada dos flip-flops\n",
    "\n",
    "&emsp;Como cada estado tem 3 bits, precisaremos de 3 flip-flops, com dois circuitos de entrada para cada um deles (para J e para K). Obtivemos esses circuitos mínimos por Mapas de Karnaugh, em que ABC representa o estado atual ($y_2y_1y_0$ respectivamente) e DE representa os 2 bits de entrada do circuito. Os resultados obtidos para esses circuitos foi:"
   ]
  },
  {
   "cell_type": "markdown",
   "metadata": {},
   "source": [
    "#### Flip-flop 2\n",
    "\n",
    "$J_2 = BC + CD\\overline{E}$\n",
    "\n",
    "\n",
    "$K_2 = B$\n",
    "\n",
    "#### Flip-flop 1\n",
    "\n",
    "$J_1 = \\overline{A}\\overline{E} + \\overline{A}D + \\overline{A}C + \\overline{C}D\\overline{E}$\n",
    "\n",
    "\n",
    "$K_1 = C + A\\overline{D}E$\n",
    "\n",
    "#### Flip-flop 0\n",
    "\n",
    "$J_0 = \\overline{D}E + \\overline{A}B + A\\overline{B}\\overline{D} + A\\overline{B}E$\n",
    "\n",
    "$K_0 = B\\overline{D}E + \\overline{A}\\overline{B}D\\overline{E}$"
   ]
  },
  {
   "cell_type": "markdown",
   "metadata": {},
   "source": [
    "&emsp;Considerando os bits de entrada (DE) como $x_1x_0$, traduzimos ABCDE para $y_2y_1y_0x_1x_0$:"
   ]
  },
  {
   "cell_type": "markdown",
   "metadata": {},
   "source": [
    "#### Flip-flop 2\n",
    "\n",
    "$J_2 = y_1y_0 + y_0x_1\\overline{x_0}$\n",
    "\n",
    "\n",
    "$K_2 = y_1$\n",
    "\n",
    "#### Flip-flop 1\n",
    "\n",
    "$J_1 = \\overline{y_2}\\overline{x_0} + \\overline{y_2}x_1 + \\overline{y_2}y_0 + \\overline{y_0}x_1\\overline{x_0}$\n",
    "\n",
    "\n",
    "$K_1 = y_0 + y_2\\overline{x_1}x_0$\n",
    "\n",
    "#### Flip-flop 0\n",
    "\n",
    "$J_0 = \\overline{x_1}x_0 + \\overline{y_2}y_1 + y_2\\overline{y_1}\\overline{x_1} + y_2\\overline{y_1}x_0$\n",
    "\n",
    "$K_0 = y_1\\overline{x_1}x_0 + \\overline{y_2}\\overline{y_1}x_1\\overline{x_0}$"
   ]
  },
  {
   "cell_type": "markdown",
   "metadata": {},
   "source": [
    "### Implementação\n",
    "\n",
    "&emsp;Por último, basta implementar os 3 flip-flops, com uma opção de reset e com as entradas J/K relativas ao resultado dos mapas de karnaugh descritos acima. As entradas do circuito são $x_1x_0$ (número de 0 a 3) e a saída é 1 apenas no estado 110, ou seja, basta fazer esse teste na saída dos flip-flops."
   ]
  }
 ],
 "metadata": {
  "kernelspec": {
   "display_name": "Python 2",
   "language": "python",
   "name": "python2"
  },
  "language_info": {
   "codemirror_mode": {
    "name": "ipython",
    "version": 2
   },
   "file_extension": ".py",
   "mimetype": "text/x-python",
   "name": "python",
   "nbconvert_exporter": "python",
   "pygments_lexer": "ipython2",
   "version": "2.7.13"
  }
 },
 "nbformat": 4,
 "nbformat_minor": 2
}
