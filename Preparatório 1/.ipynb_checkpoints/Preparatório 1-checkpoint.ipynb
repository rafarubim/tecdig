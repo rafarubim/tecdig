{
 "cells": [
  {
   "cell_type": "markdown",
   "metadata": {},
   "source": [
    "# Lab de Técnicas Digitais - Preparatório 1 - PUC-Rio\n",
    "## Rafael Rubim Cabral - 1511068\n",
    "## André Guimarães de Mello Alves - 1511032"
   ]
  },
  {
   "cell_type": "markdown",
   "metadata": {},
   "source": [
    "### 1)\n",
    "&emsp;Deseja-se implementar a função:\n",
    "\n",
    "$f(A,B,C,D,E) = \\sum m(0,1,2,9,10,11,13,17,19,26,27,28,29,30,31)$\n",
    "\n",
    "&emsp;Pelo Mapa de Karnaugh teremos:"
   ]
  },
  {
   "cell_type": "markdown",
   "metadata": {},
   "source": [
    "<img src=\"MapaKarnaugh.png\" width=\"600px\">"
   ]
  },
  {
   "cell_type": "markdown",
   "metadata": {
    "collapsed": true
   },
   "source": [
    "&emsp;O resultado obtido é:\n",
    "\n",
    "$f(A,B,C,D,E) = \\overline{A}\\overline{B}\\overline{C}\\overline{D}+\\overline{A}B\\overline{D}E+\\overline{A}\\overline{C}D\\overline{E}+B\\overline{C}D+A\\overline{B}\\overline{C}E+ABC+ABD$\n",
    "\n",
    "&emsp;Essa fórmula obtida finaliza a minimização em 2 níveis e pode ser implementada por chips AND e OR. A fórmula também pode ser alterada para que seja implementada por chips NAND:\n",
    "\n",
    "$f(A,B,C,D,E) = \\overline{A}\\overline{B}\\overline{C}\\overline{D}+\\overline{A}B\\overline{D}E+\\overline{A}\\overline{C}D\\overline{E}+B\\overline{C}D+A\\overline{B}\\overline{C}E+ABC+ABD$\n",
    "\n",
    "&emsp;Sem alterar o sentido lógico, podemos negar 2 vezes toda a sentença:\n",
    "\n",
    "$f(A,B,C,D,E) = \\overline{\\overline{\\overline{A}\\overline{B}\\overline{C}\\overline{D}+\\overline{A}B\\overline{D}E+\\overline{A}\\overline{C}D\\overline{E}+B\\overline{C}D+A\\overline{B}\\overline{C}E+ABC+ABD}}$\n",
    "\n",
    "&emsp;Reorganizando os termos:\n",
    "\n",
    "$f(A,B,C,D,E) = \\overline{\\left(\\overline{\\overline{A}\\overline{B}\\overline{C}\\overline{D}+\\overline{A}B\\overline{D}E+\\overline{A}\\overline{C}D\\overline{E}+B\\overline{C}D+A\\overline{B}\\overline{C}E+ABC+ABD}\\right)}$\n",
    "\n",
    "&emsp;Pelo Teorema de Morgan, a negação de uma expressão com OU é um E da negação de cada termo:\n",
    "\n",
    "$f(A,B,C,D,E) = \\overline{\\left(\\overline{\\overline{A}\\overline{B}\\overline{C}\\overline{D}}\\cdot\\overline{\\overline{A}B\\overline{D}E}\\cdot\\overline{\\overline{A}\\overline{C}D\\overline{E}}\\cdot\\overline{B\\overline{C}D}\\cdot\\overline{A\\overline{B}\\overline{C}E}\\cdot\\overline{ABC}\\cdot\\overline{ABD}\\right)}$\n",
    "\n",
    "&emsp;Com isso, a fórmula é representada apenas por multiplicações e negações delas. Ou seja, mostra um jeito fácil de como implementar a função somente com NANDS."
   ]
  }
 ],
 "metadata": {
  "kernelspec": {
   "display_name": "Python 2",
   "language": "python",
   "name": "python2"
  },
  "language_info": {
   "codemirror_mode": {
    "name": "ipython",
    "version": 2
   },
   "file_extension": ".py",
   "mimetype": "text/x-python",
   "name": "python",
   "nbconvert_exporter": "python",
   "pygments_lexer": "ipython2",
   "version": "2.7.13"
  }
 },
 "nbformat": 4,
 "nbformat_minor": 2
}
