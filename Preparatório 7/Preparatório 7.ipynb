{
 "cells": [
  {
   "cell_type": "markdown",
   "metadata": {},
   "source": [
    "# Lab de Técnicas Digitais - Preparatório 7 - PUC-Rio\n",
    "## Rafael Rubim Cabral - 1511068\n",
    "## André Guimarães de Mello Alves - 1511032"
   ]
  },
  {
   "cell_type": "markdown",
   "metadata": {},
   "source": [
    "### 1)\n",
    "\n",
    "&emsp;Tudo pode ser feito da seguinte maneira:\n",
    "\n",
    "- Usar mínimo 2 chips 74290 para contar em decimal até 21.\n",
    "- Testar quando chegar em 21 e, quando for o caso, inibir o clock na entrada do primeiro chip. O reset pode ser conectado a ambos os chips para quando se quiser voltar ao estado inicial.\n",
    "- Implementar o flip-flop tipo d:\n",
    "    - Ligar o reset geral ao reset do flip-flop também\n",
    "    - Testar quando a contagem chegar em 18 para resetá-lo novamente\n",
    "    - Testar quando a contagem chegar em 11 para setá-lo. Como não há entrada preset, pode-se fazer da seguinte forma:\n",
    "        - Fazer um circuito combinacional para testar o valor da contagem cuja saída é o valor que se deve colocar no flip-flop: saída 1 para contagem entre 11~17, saída 0 caso contrário. Vamos conectar essa saída à entrada do flip-flop d.\n",
    "        - Problema de sincronismo: para atualizar o flip-flop de maneira síncrona com o contador (ligando o mesmo clock em ambos), surgirá um problema: quando o clock bater, suponha que o contador vai do número 'a' pra 'b'. Se 'b' for 11, deseja-se que seja colocado 1 no flip-flop. Mas já que isso ocorre de maneira síncrona, o que será colocado no flip-flop nesse momento será a saída do circuito combinacional cuja entrada é 'a'. Para resolver esse problema de sincronismo, podemos fazer a saída do circuito combinacional ser 1 se 'a' for 10 (e a saída ser 0 se 'a' for 16).\n",
    "        - Após solução do problema de sincronismo: o circuito combinacional terá saída 1 para contagem entre 10~16 e 0 caso contrário.\n",
    "        - Como estamos trabalhando com números em BCD, o circuito combinacional será muito mais simples se estivermos testando um número entre 10~17. Podemos implementá-lo desse jeito, pois quando a contagem vai de 17 a 18, podemos usar o reset do flip-flop para zerá-lo de maneira assíncrona, descartando o problema de sincronismo descrito anteriormente.\n",
    "        - Conclusão: se a contagem estiver entre 10~17, a saída do circuito combinacional será 1. Caso contrário será 0. Essa saída será ligada à entrada 'd' do flip-flop. Quando a saída desse circuito combinacional for 0, deve-se resetar o flip-flop de maneira assíncrona."
   ]
  },
  {
   "cell_type": "markdown",
   "metadata": {},
   "source": [
    "### 2)\n",
    "\n",
    "&emsp;Circuitos montados intuitivamente, sem comentários relevantes."
   ]
  }
 ],
 "metadata": {
  "kernelspec": {
   "display_name": "Python 2",
   "language": "python",
   "name": "python2"
  },
  "language_info": {
   "codemirror_mode": {
    "name": "ipython",
    "version": 2
   },
   "file_extension": ".py",
   "mimetype": "text/x-python",
   "name": "python",
   "nbconvert_exporter": "python",
   "pygments_lexer": "ipython2",
   "version": "2.7.13"
  }
 },
 "nbformat": 4,
 "nbformat_minor": 2
}
