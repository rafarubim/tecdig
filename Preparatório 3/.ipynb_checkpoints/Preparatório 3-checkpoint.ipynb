{
 "cells": [
  {
   "cell_type": "markdown",
   "metadata": {},
   "source": [
    "# Lab de Técnicas Digitais - Preparatório 3 - PUC-Rio\n",
    "## Rafael Rubim Cabral - 1511068\n",
    "## André Guimarães de Mello Alves - 1511032"
   ]
  },
  {
   "cell_type": "markdown",
   "metadata": {},
   "source": [
    "### 1)\n",
    "\n",
    "&emsp;Resolvida direto no Circuit Maker."
   ]
  },
  {
   "cell_type": "markdown",
   "metadata": {},
   "source": [
    "### 2)\n",
    "\n",
    "&emsp;Resolvida direto no Circuit Maker."
   ]
  },
  {
   "cell_type": "markdown",
   "metadata": {},
   "source": [
    "### 3)\n",
    "\n",
    "&emsp;Nossa ideia inicial seguiu as seguintes etapas:\n",
    "\n",
    "- 1) Somar dois números de 5 bits. O resultado terá 6 bits e será chamado de S.\n",
    "- 2) Comparar S para ver se é menor que 19. Se positivo:\n",
    "    - Ligar o LED CONV\n",
    "    - Ligar um bit em algum lugar (o próprio CONV, por exemplo), onde será usado o fato \"S < 19\"\n",
    "- 3) Comparar S para ver se é maior que 9. Se positivo:\n",
    "    - Ligar um bit em algum lugar, onde será usado o fato \"S > 9\"\n",
    "- 4) Agora teremos duas opções. Manter o resultado S em 6 bits binários ou transformá-lo em um número de 8 bits em BCD. Decidimos usar sempre 8 bits de saída no mesmo display: se a saída não estiver em BCD, apenas 6 desses 8 bits representarão a soma (os 2 mais significativos estarão zerados).\n",
    "- 5) Em todo caso, somaremos S + 6. Usaremos esse resultado caso S precise ser transformado em BCD.\n",
    "- 6) Por fim, utilizar um multiplexador para escolher uma entre as duas possibilidades: \"S\" ou \"S+6\". Para saber qual delas escolher, podemos testar os 2 fatos: se \"S < 19\" e \"S > 9\", então precisamos transformar S em BCD (no caso S <= 9, S já está em BCD). Caso contrário, não há necessidade de fazer transformação alguma."
   ]
  },
  {
   "cell_type": "markdown",
   "metadata": {},
   "source": [
    "&emsp;Essa foi a solução inicial, porém escolhemos algumas otimizações:\n",
    "\n",
    "- Ao invés de usar um multiplexador para escolher entre \"S\" e \"S+6\", decidimos usar a saída como \"S+X\". Usaremos um somador que soma X = 6 caso queiramos transformar S em BCD ou soma X = 0 caso S já esteja em BCD ou não queiramos transformar S em BCD.\n",
    "- Ao invés de utilizar dois comparadores para testar os fatos \"S < 19\" e \"S > 9\", preferimos montar um subcircuito de entrada S cuja saída é 1 caso S esteja no intervalo desejado (9 < S < 19) e 0 caso contrário. Se a saída do subcircuito for 1, então S deve ser transformado em BCD. Caso contrário, não. Para montar esse subcircuito, fizemos o seguinte teste: se o bit mais significativo de s (chamado CARRY) estiver ligado, então S > 19, logo o resultado do subcircuito é 0. Com os outros 5 bits menos significativos de S fizemos um mapa de karnaugh para testar (9 < S < 19). Vamos chamar o resultado do circuito mínimo em 2 níveis desse mapa de Karnaugh de Y = 1 se S estiver no intervalo desejado e Y = 0 se S estiver fora do intervalo. Então o resultado do subcircuito será 1 se (CARRY = 0 AND Y = 1) e 0 caso contrário. Chegamos à conclusão, experimentalmente, de que montar esse subscircuito gastará menos chips na prática do que fazer 2 comparações com números de 6 bits. Para gastar ainda menos chips na prática, substituímos o (CARRY = 0 AND Y = 1) por ~(CARRY = 1 OR Y = 0). Assim, podemos aproveitar as entradas do chip OR que estão sobrando."
   ]
  },
  {
   "cell_type": "markdown",
   "metadata": {},
   "source": [
    "&emsp;Segue o resultado do mapa de Karnaugh de 5 entradas que utilizamos para implementar o subcircuito:\n",
    "\n",
    "|| $\\overline{D}\\overline{E}$ | $\\overline{D}E$ | $DE$ | $D\\overline{E}$ |\n",
    "|-|-|-|-|-|\n",
    "|$\\overline{A}\\overline{B}\\overline{C}$|0|0|0|0|\n",
    "|$\\overline{A}\\overline{B}C$|0|0|0|0|\n",
    "|$\\overline{A}BC$|1|1|1|1|\n",
    "|$\\overline{A}B\\overline{C}$|0|0|1|1|\n",
    "|$A\\overline{B}\\overline{C}$|1|1|0|1|\n",
    "|$A\\overline{B}C$|0|0|0|0|\n",
    "|$ABC$|0|0|0|0|\n",
    "|$AB\\overline{C}$|0|0|0|0|"
   ]
  },
  {
   "cell_type": "markdown",
   "metadata": {},
   "source": [
    "|Grupos||\n",
    "|-|-|\n",
    "|(10,11,14,15)|\t$\\overline{A}BD$|\n",
    "|(12,13,14,15)|\t$\\overline{A}BC$|\n",
    "|(16,17)|\t$A\\overline{B}\\overline{C}\\overline{D}$|\n",
    "|(16,18)|\t$A\\overline{B}\\overline{C}\\overline{E}$|"
   ]
  },
  {
   "cell_type": "markdown",
   "metadata": {},
   "source": [
    "&emsp;Função resultado:\n",
    "\n",
    "$Y = \\overline{A}BD + \\overline{A}BC + A\\overline{B}\\overline{C}\\overline{D} + A\\overline{B}\\overline{C}\\overline{E}$\n",
    "\n",
    "&emsp;Com essa função, pode-se implementar os gates diretamente no modelo."
   ]
  }
 ],
 "metadata": {
  "kernelspec": {
   "display_name": "Python 2",
   "language": "python",
   "name": "python2"
  },
  "language_info": {
   "codemirror_mode": {
    "name": "ipython",
    "version": 2
   },
   "file_extension": ".py",
   "mimetype": "text/x-python",
   "name": "python",
   "nbconvert_exporter": "python",
   "pygments_lexer": "ipython2",
   "version": "2.7.13"
  }
 },
 "nbformat": 4,
 "nbformat_minor": 2
}
